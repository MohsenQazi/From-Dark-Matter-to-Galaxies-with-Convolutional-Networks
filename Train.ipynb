{
 "cells": [
  {
   "cell_type": "code",
   "execution_count": 16,
   "metadata": {},
   "outputs": [
    {
     "name": "stdout",
     "output_type": "stream",
     "text": [
      "cuda:0\n",
      "arguments: Namespace(C_model='', batch_size=16, conv1_out=6, conv3_out=8, conv5_out=10, dark_matter_mean=5.614541, data_size='full', epochs=50, load_model=0, loss_weight=80.0, lr=0.001, model_idx=2, normalize=1, plot_label='', print_freq=400, random_seed=7, record_results=0, regression=0, save_name='test_model_1', shuffle=0, target_cat='subcount', vel=0, weight_decay=0.0)\n",
      "criterion classification\n",
      "Epoch Train Loss 0.95883732, Test Loss 0.74965338,         Test Accuracy 89.12165700,  Test Recall 13.15863325\t Precision 0.53794547\t\n",
      "Epoch: [0][0/1332]\tTime 3.509 (3.509)\tLoss 1.42989719 (1.42989719)\t\n",
      "Epoch: [0][400/1332]\tTime 0.146 (0.183)\tLoss 0.69314766 (0.69498906)\t\n",
      "Epoch: [0][800/1332]\tTime 0.157 (0.176)\tLoss 0.69314766 (0.69406952)\t\n",
      "Epoch: [0][1200/1332]\tTime 0.134 (0.173)\tLoss 0.69314754 (0.69376250)\t\n",
      "Epoch 0 : Train: Loss 0.69370203\t\n",
      "Epoch 0 :Val Loss 0.69314764,         Val Accuracy 99.56828088,  Val Recall 0.00000000\t Precision 0.00000000 F1 score  0.00000000\t\n",
      "Epoch: [1][0/1332]\tTime 3.299 (3.299)\tLoss 0.69314760 (0.69314760)\t\n",
      "Epoch: [1][400/1332]\tTime 0.157 (0.189)\tLoss 0.69314772 (0.69314769)\t\n",
      "Epoch: [1][800/1332]\tTime 0.151 (0.185)\tLoss 0.69314772 (0.69314768)\t\n",
      "Epoch: [1][1200/1332]\tTime 0.138 (0.184)\tLoss 0.69314748 (0.69314768)\t\n",
      "Epoch 1 : Train: Loss 0.69314768\t\n",
      "Epoch 1 :Val Loss 0.69314764,         Val Accuracy 99.56828088,  Val Recall 0.00000000\t Precision 0.00000000 F1 score  0.00000000\t\n",
      "Epoch: [2][0/1332]\tTime 3.442 (3.442)\tLoss 0.69314784 (0.69314784)\t\n",
      "Epoch: [2][400/1332]\tTime 0.140 (0.185)\tLoss 0.69314766 (0.69314769)\t\n",
      "Epoch: [2][800/1332]\tTime 0.144 (0.177)\tLoss 0.69314772 (0.69314768)\t\n",
      "Epoch: [2][1200/1332]\tTime 0.146 (0.175)\tLoss 0.69314772 (0.69314768)\t\n",
      "Epoch 2 : Train: Loss 0.69314768\t\n",
      "Epoch 2 :Val Loss 0.69314764,         Val Accuracy 99.56828088,  Val Recall 0.00000000\t Precision 0.00000000 F1 score  0.00000000\t\n",
      "Epoch: [3][0/1332]\tTime 3.303 (3.303)\tLoss 0.69314772 (0.69314772)\t\n",
      "Epoch: [3][400/1332]\tTime 0.128 (0.181)\tLoss 0.69314790 (0.69314769)\t\n",
      "Epoch: [3][800/1332]\tTime 0.157 (0.175)\tLoss 0.69314766 (0.69314769)\t\n",
      "^C\n"
     ]
    }
   ],
   "source": [
    "####Classification Phase\n",
    "!python src1/main.py --lr 0.001 --data_size full --lr 0.001 --loss_weight 80 --model_idx 2 --epochs 50 --target_cat 'subcount' --regression 0 \\\n",
    "--save_name test_model_1 --normalize 1 --record_results 0 --vel 0"
   ]
  },
  {
   "cell_type": "code",
   "execution_count": 2,
   "metadata": {},
   "outputs": [
    {
     "name": "stdout",
     "output_type": "stream",
     "text": [
      "cuda:0\n",
      "arguments: Namespace(C_model='test_model_1', batch_size=16, conv1_out=6, conv3_out=8, conv5_out=10, dark_matter_mean=5.614541, data_size='full', epochs=40, load_model=0, loss_weight=0.8, lr=0.0003, model_idx=10, normalize=0, plot_label='', print_freq=400, random_seed=7, record_results=0, regression=1, save_name='test_r_model_1', shuffle=0, target_cat='stellarm', vel=0, weight_decay=0.0)\n",
      "Epoch Train Loss 227.79297817, Test Loss 238.33033422\n",
      "Epoch: [0][0/1332]\tTime 3.567 (3.567)\tLoss 241.52172852 (241.52172852)\t\n",
      "Epoch: [0][400/1332]\tTime 0.660 (0.667)\tLoss 0.00146590 (2.88310769)\t\n",
      "Epoch: [0][800/1332]\tTime 0.659 (0.663)\tLoss 0.00042377 (1.44373918)\t\n",
      "^C\n"
     ]
    }
   ],
   "source": [
    "####Regression Phase\n",
    "\n",
    "!python src1/main.py --lr 0.0003 --loss_weight 0.8 --model_idx 10 --epochs 40 --target_cat 'stellarm' --regression 1 --load_model 0 \\\n",
    "--save_name test_r_model_1 --normalize 0  --record_results 0 --vel 0 --C_model test_model_1\n"
   ]
  }
 ],
 "metadata": {
  "kernelspec": {
   "display_name": "Python 3",
   "language": "python",
   "name": "python3"
  },
  "language_info": {
   "codemirror_mode": {
    "name": "ipython",
    "version": 3
   },
   "file_extension": ".py",
   "mimetype": "text/x-python",
   "name": "python",
   "nbconvert_exporter": "python",
   "pygments_lexer": "ipython3",
   "version": "3.6.3"
  }
 },
 "nbformat": 4,
 "nbformat_minor": 2
}
