{
 "cells": [
  {
   "cell_type": "code",
   "execution_count": 1,
   "metadata": {},
   "outputs": [
    {
     "name": "stdout",
     "output_type": "stream",
     "text": [
      "cuda:0\n"
     ]
    }
   ],
   "source": [
    "import argparse\n",
    "import os\n",
    "import random\n",
    "import shutil\n",
    "import time\n",
    "import warnings\n",
    "import os\n",
    "import torch\n",
    "import torch.nn as nn\n",
    "import torch.backends.cudnn as cudnn\n",
    "import torch.optim\n",
    "import torch.utils.data\n",
    "import torch.nn.functional as F\n",
    "\n",
    "from torch.utils import data\n",
    "import random\n",
    "import numpy as np\n",
    "from itertools import product\n",
    "import argparse\n",
    "\n",
    "from train_f import *\n",
    "from Dataset import Dataset\n",
    "#from Models import *\n",
    "# from Models2 import *\n",
    "# from Models4 import *\n",
    "from args import args\n",
    "from Models import *\n",
    "\n",
    "device = torch.device('cuda:0' if torch.cuda.is_available() else 'cpu')\n",
    "print(device)"
   ]
  },
  {
   "cell_type": "code",
   "execution_count": 13,
   "metadata": {},
   "outputs": [],
   "source": [
    "def predict(filenames, model_name, C_model = None, vel = 0, redshift = 0, label = ''):\n",
    "    dim_out = 1\n",
    "    dim_in = 1\n",
    "        \n",
    "    for i, filename in enumerate(filenames):\n",
    "        if model_name == 'reg_Incep':\n",
    "            model = Inception(dim_in, 6, 8, 10, reg = 1).to(device)\n",
    "            state_dict = torch.load('pretrained/' + filename)\n",
    "            model.load_state_dict(state_dict)\n",
    "        elif model_name == 'reg_R2Unet':\n",
    "            model = R2Unet(dim_in,dim_out,t=3,reg = 1).to(device)         \n",
    "            state_dict = torch.load('pretrained/' + filename)\n",
    "            model.load_state_dict(state_dict)\n",
    "        elif model_name == 'subhalo_r2unet':\n",
    "            model = R2Unet_subhalo(dim_in,dim_out,t=3,reg = 1).to(device)         \n",
    "            state_dict = torch.load('pretrained/' + filename)\n",
    "            model.load_state_dict(state_dict)\n",
    "        elif model_name == 'R2Unet':\n",
    "            state_dict_mask = torch.load('pretrained/' + C_model)\n",
    "            mask_model = R2Unet(dim_in, dim_out, t= 3).to(device)\n",
    "            mask_model.load_state_dict(state_dict_mask)\n",
    "            pred_model = R2Unet(dim_in,dim_out,t=3,reg = 1).to(device)\n",
    "            model = two_phase_conv(mask_model,pred_model)\n",
    "            state_dict = torch.load('pretrained/' + filename)\n",
    "            model.load_state_dict(state_dict)\n",
    "        elif model_name == 'Incep':\n",
    "            state_dict_mask = torch.load('pretrained/' + C_model)\n",
    "            mask_model = Inception(dim_in, 6, 8, 10).to(device)\n",
    "            mask_model.load_state_dict(state_dict_mask)\n",
    "            pred_model = R2Unet(dim_in,dim_out,t=3,reg = 1).to(device)\n",
    "            model = two_phase_conv(mask_model,pred_model)\n",
    "            state_dict = torch.load('pretrained/' + filename)\n",
    "            model.load_state_dict(state_dict)\n",
    "        elif model_name == 'subhalo_2phase':\n",
    "            state_dict_mask = torch.load('pretrained/' + C_model)\n",
    "            mask_model = Inception(dim_in, 6, 8, 10).to(device)\n",
    "            mask_model.load_state_dict(state_dict_mask)\n",
    "            pred_model = R2Unet_subhalo(dim_in,dim_out,t=3,reg = 1).to(device)\n",
    "            model = two_phase_conv(mask_model,pred_model)\n",
    "            state_dict = torch.load('pretrained/' + filename)\n",
    "            model.load_state_dict(state_dict)\n",
    "\n",
    "        with torch.no_grad():\n",
    "            for ID in ranges:\n",
    "                if vel == 1:\n",
    "                    inp=dark_velo[:,ID[0]:ID[0]+32,ID[1]:ID[1]+32,ID[2]:ID[2]+32]\n",
    "                    inputs=torch.from_numpy(inp).unsqueeze(dim = 0).to(device).float()\n",
    "                else:\n",
    "                    #inp=dark[ID[0]:ID[0]+32,ID[1]:ID[1]+32,ID[2]:ID[2]+32]\n",
    "                    inp=dark[ID[0]:ID[0]+32,ID[1]:ID[1]+32,ID[2]:ID[2]+32]\n",
    "                    dark_count=torch.from_numpy(inp).unsqueeze(dim = 0).unsqueeze(dim = 1).to(device).float()\n",
    "                    sub=subhalo[ID[0]:ID[0]+32,ID[1]:ID[1]+32,ID[2]:ID[2]+32]\n",
    "                    sub=np.log(sub+1)\n",
    "                    subhallo_mass=torch.from_numpy(sub).unsqueeze(dim = 0).unsqueeze(dim = 1).to(device).float()\n",
    "                output = model(dark_count)\n",
    "                #print(' output.size= ', output.size())\n",
    "#                 outputs = F.softmax(output, dim=1)\n",
    "        #     predicted = outputs.max(1, keepdim=True)[1]\n",
    "                predictions[:,ID[0]:ID[0]+32,ID[1]:ID[1]+32,ID[2]:ID[2]+32]=output.cpu().numpy()[0]\n",
    "                if (ID[1]==0 and ID[2]==0):\n",
    "                    print(ID)\n",
    "                #print(output.cpu().numpy()[0].shape)\n",
    "        predictions[predictions < 0] = 0\n",
    "        #np.save('/scratch/ys3202/predictions_' + 'red' + str(redshift) + '_' + filename + '.npy', predictions)\n",
    "        np.save('/scratch/xz2139/predictions_' + label + '_' + filename + '.npy', predictions)"
   ]
  },
  {
   "cell_type": "code",
   "execution_count": 3,
   "metadata": {},
   "outputs": [],
   "source": [
    "## modify\n",
    "normalize = 0  #modify\n",
    "vel = 0 #modify\n",
    "redshift = 0  #modify \n",
    "tng = 0\n",
    "if tng == 1:\n",
    "    dark=np.load('/oldscratch/xz2139/TNG_100_dark.npy')\n",
    "elif redshift == 0:\n",
    "    dark=np.load('/oldscratch/xz2139/cosmo_dark/Dark_zeros.npy')\n",
    "    subhalo = np.load('/oldscratch/xz2139/Fullmass_zeros.npy')\n",
    "if  normalize:\n",
    "    dm_mean=5.614541471004486\n",
    "    dark=(dark-dm_mean)/dm_mean\n",
    "if vel:\n",
    "    dark_velo = np.load('/oldscratch/xz2139/Dark_velo_zeros_4.npy')\n",
    "\n",
    "predictions=np.zeros((1,1024,1024,1024))\n",
    "data_range = 1024\n",
    "pos=list(np.arange(0,data_range,32))\n",
    "ranges=list(product(pos,repeat=3))\n",
    "\n"
   ]
  },
  {
   "cell_type": "code",
   "execution_count": 14,
   "metadata": {},
   "outputs": [
    {
     "name": "stdout",
     "output_type": "stream",
     "text": [
      "(0, 0, 0)\n",
      "(32, 0, 0)\n",
      "(64, 0, 0)\n",
      "(96, 0, 0)\n",
      "(128, 0, 0)\n",
      "(160, 0, 0)\n",
      "(192, 0, 0)\n",
      "(224, 0, 0)\n",
      "(256, 0, 0)\n",
      "(288, 0, 0)\n",
      "(320, 0, 0)\n",
      "(352, 0, 0)\n",
      "(384, 0, 0)\n",
      "(416, 0, 0)\n",
      "(448, 0, 0)\n",
      "(480, 0, 0)\n",
      "(512, 0, 0)\n",
      "(544, 0, 0)\n",
      "(576, 0, 0)\n",
      "(608, 0, 0)\n",
      "(640, 0, 0)\n",
      "(672, 0, 0)\n",
      "(704, 0, 0)\n",
      "(736, 0, 0)\n",
      "(768, 0, 0)\n",
      "(800, 0, 0)\n",
      "(832, 0, 0)\n",
      "(864, 0, 0)\n",
      "(896, 0, 0)\n",
      "(928, 0, 0)\n",
      "(960, 0, 0)\n",
      "(992, 0, 0)\n"
     ]
    }
   ],
   "source": [
    "model_subhalo = ['regression1.pth']\n",
    "C_model = 'model_2@6@8@10_80_v0_n0.pth'\n",
    "predict(model_subhalo, C_model=C_model, model_name = 'Incep', vel = 0, label = '1')"
   ]
  },
  {
   "cell_type": "code",
   "execution_count": 16,
   "metadata": {},
   "outputs": [],
   "source": [
    "import pandas as pd\n",
    "import h5py\n",
    "import numpy as np\n",
    "import matplotlib.pyplot as plt\n",
    "\n",
    "\n",
    "def power_spectrum_np(cube, mean_raw_cube, SubBoxSize):\n",
    "\n",
    "    nc = cube.shape[2] # define how many cells your box has\n",
    "    delta = cube/mean_raw_cube - 1.0\n",
    "\n",
    "    # get P(k) field: explot fft of data that is only real, not complex\n",
    "    delta_k = np.abs(np.fft.rfftn(delta)) \n",
    "    Pk_field =  delta_k**2\n",
    "\n",
    "    # get 3d array of index integer distances to k = (0, 0, 0)\n",
    "    dist = np.minimum(np.arange(nc), np.arange(nc,0,-1))\n",
    "    dist_z = np.arange(nc//2+1)\n",
    "    dist *= dist\n",
    "    dist_z *= dist_z\n",
    "    dist_3d = np.sqrt(dist[:, None, None] + dist[:, None] + dist_z)\n",
    "\n",
    "    \n",
    "    ################ NEW #################\n",
    "    dist_3d  = np.ravel(dist_3d)\n",
    "    Pk_field = np.ravel(Pk_field)\n",
    "    \n",
    "    k_bins = np.arange(nc//2+1)\n",
    "    k      = 0.5*(k_bins[1:] + k_bins[:-1])*2.0*np.pi/SubBoxSize\n",
    "    \n",
    "    Pk     = np.histogram(dist_3d, bins=k_bins, weights=Pk_field)[0]\n",
    "    Nmodes = np.histogram(dist_3d, bins=k_bins)[0]\n",
    "    Pk     = (Pk/Nmodes)*(SubBoxSize/nc**2)**3\n",
    "    \n",
    "    k = k[1:];  Pk = Pk[1:]\n",
    "    \n",
    "    return k, Pk"
   ]
  },
  {
   "cell_type": "code",
   "execution_count": 15,
   "metadata": {},
   "outputs": [],
   "source": [
    "target=np.load('/oldscratch/xz2139/Full_zeros.npy')\n",
    "prediction=np.load('/scratch/xz2139/predictions_1_regression1.pth.npy')"
   ]
  },
  {
   "cell_type": "code",
   "execution_count": 17,
   "metadata": {},
   "outputs": [],
   "source": [
    "pred=prediction[0,448:,448:,448:]\n",
    "tar=target[448:,448:,448:]"
   ]
  },
  {
   "cell_type": "code",
   "execution_count": 18,
   "metadata": {},
   "outputs": [],
   "source": [
    "p_k,p_pk0=power_spectrum_np(pred,pred.mean(), 42.1875)\n",
    "t_k,t_pk0=power_spectrum_np(tar,tar.mean(), 42.1875)"
   ]
  },
  {
   "cell_type": "code",
   "execution_count": 20,
   "metadata": {},
   "outputs": [
    {
     "data": {
      "image/png": "[encoded data removed]",
      "text/plain": [
       "<matplotlib.figure.Figure at 0x2b5e0df4fd30>"
      ]
     },
     "metadata": {
      "needs_background": "light"
     },
     "output_type": "display_data"
    }
   ],
   "source": [
    "plt.figure(figsize=[9,6])\n",
    "\n",
    "plt.plot(p_k,p_pk0,label='prediction',linewidth=2,color='b')\n",
    "plt.plot(t_k,t_pk0,label='target',linewidth=2,color='r')\n",
    "\n",
    "plt.xscale('log')\n",
    "plt.yscale('log')\n",
    "plt.xlabel('k(h/Mpc)')\n",
    "plt.ylabel('p(k)')\n",
    "plt.legend()\n",
    "\n",
    "plt.show()"
   ]
  }
 ],
 "metadata": {
  "kernelspec": {
   "display_name": "Python 3",
   "language": "python",
   "name": "python3"
  },
  "language_info": {
   "codemirror_mode": {
    "name": "ipython",
    "version": 3
   },
   "file_extension": ".py",
   "mimetype": "text/x-python",
   "name": "python",
   "nbconvert_exporter": "python",
   "pygments_lexer": "ipython3",
   "version": "3.6.3"
  }
 },
 "nbformat": 4,
 "nbformat_minor": 2
}
