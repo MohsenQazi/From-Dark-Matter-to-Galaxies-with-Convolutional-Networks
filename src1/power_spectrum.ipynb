{
 "cells": [
  {
   "cell_type": "code",
   "execution_count": 2,
   "metadata": {},
   "outputs": [
    {
     "name": "stderr",
     "output_type": "stream",
     "text": [
      "/Users/hp/anaconda/lib/python3.5/site-packages/h5py/__init__.py:34: FutureWarning: Conversion of the second argument of issubdtype from `float` to `np.floating` is deprecated. In future, it will be treated as `np.float64 == np.dtype(float).type`.\n",
      "  from ._conv import register_converters as _register_converters\n"
     ]
    }
   ],
   "source": [
    "import pandas as pd\n",
    "import h5py\n",
    "import numpy as np\n",
    "import matplotlib.pyplot as plt\n",
    "\n",
    "\n",
    "def power_spectrum_np(cube, mean_raw_cube, SubBoxSize):\n",
    "\n",
    "    nc = cube.shape[2] # define how many cells your box has\n",
    "    delta = cube/mean_raw_cube - 1.0\n",
    "\n",
    "    # get P(k) field: explot fft of data that is only real, not complex\n",
    "    delta_k = np.abs(np.fft.rfftn(delta)) \n",
    "    Pk_field =  delta_k**2\n",
    "\n",
    "    # get 3d array of index integer distances to k = (0, 0, 0)\n",
    "    dist = np.minimum(np.arange(nc), np.arange(nc,0,-1))\n",
    "    dist_z = np.arange(nc//2+1)\n",
    "    dist *= dist\n",
    "    dist_z *= dist_z\n",
    "    dist_3d = np.sqrt(dist[:, None, None] + dist[:, None] + dist_z)\n",
    "\n",
    "    \n",
    "    ################ NEW #################\n",
    "    dist_3d  = np.ravel(dist_3d)\n",
    "    Pk_field = np.ravel(Pk_field)\n",
    "    \n",
    "    k_bins = np.arange(nc//2+1)\n",
    "    k      = 0.5*(k_bins[1:] + k_bins[:-1])*2.0*np.pi/SubBoxSize\n",
    "    \n",
    "    Pk     = np.histogram(dist_3d, bins=k_bins, weights=Pk_field)[0]\n",
    "    Nmodes = np.histogram(dist_3d, bins=k_bins)[0]\n",
    "    Pk     = (Pk/Nmodes)*(SubBoxSize/nc**2)**3\n",
    "    \n",
    "    k = k[1:];  Pk = Pk[1:]\n",
    "    \n",
    "    return k, Pk"
   ]
  },
  {
   "cell_type": "code",
   "execution_count": 3,
   "metadata": {},
   "outputs": [
    {
     "ename": "FileNotFoundError",
     "evalue": "[Errno 2] No such file or directory: '/scratch/xz2139/Target_R2Unet.npy'",
     "output_type": "error",
     "traceback": [
      "\u001b[0;31m---------------------------------------------------------------------------\u001b[0m",
      "\u001b[0;31mFileNotFoundError\u001b[0m                         Traceback (most recent call last)",
      "\u001b[0;32m<ipython-input-3-972a0f0a8055>\u001b[0m in \u001b[0;36m<module>\u001b[0;34m()\u001b[0m\n\u001b[1;32m      9\u001b[0m         \u001b[0mps\u001b[0m\u001b[0;34m[\u001b[0m\u001b[0mmodel_name\u001b[0m\u001b[0;34m]\u001b[0m\u001b[0;34m\u001b[0m\u001b[0m\n\u001b[1;32m     10\u001b[0m \u001b[0;34m\u001b[0m\u001b[0m\n\u001b[0;32m---> 11\u001b[0;31m \u001b[0mall_power_spectrum\u001b[0m\u001b[0;34m(\u001b[0m\u001b[0;34m)\u001b[0m\u001b[0;34m\u001b[0m\u001b[0m\n\u001b[0m",
      "\u001b[0;32m<ipython-input-3-972a0f0a8055>\u001b[0m in \u001b[0;36mall_power_spectrum\u001b[0;34m()\u001b[0m\n\u001b[1;32m      2\u001b[0m \u001b[0;34m\u001b[0m\u001b[0m\n\u001b[1;32m      3\u001b[0m \u001b[0;32mdef\u001b[0m \u001b[0mall_power_spectrum\u001b[0m\u001b[0;34m(\u001b[0m\u001b[0;34m)\u001b[0m\u001b[0;34m:\u001b[0m\u001b[0;34m\u001b[0m\u001b[0m\n\u001b[0;32m----> 4\u001b[0;31m     \u001b[0mtarget\u001b[0m\u001b[0;34m=\u001b[0m\u001b[0mnp\u001b[0m\u001b[0;34m.\u001b[0m\u001b[0mload\u001b[0m\u001b[0;34m(\u001b[0m\u001b[0;34m'/scratch/xz2139/Target_R2Unet.npy'\u001b[0m\u001b[0;34m)\u001b[0m\u001b[0;34m\u001b[0m\u001b[0m\n\u001b[0m\u001b[1;32m      5\u001b[0m     \u001b[0mmodels_list\u001b[0m \u001b[0;34m=\u001b[0m \u001b[0;34m[\u001b[0m\u001b[0;34m'full_4_1_0'\u001b[0m\u001b[0;34m]\u001b[0m\u001b[0;34m\u001b[0m\u001b[0m\n\u001b[1;32m      6\u001b[0m     \u001b[0mps\u001b[0m \u001b[0;34m=\u001b[0m \u001b[0;34m{\u001b[0m\u001b[0;34m}\u001b[0m\u001b[0;34m\u001b[0m\u001b[0m\n",
      "\u001b[0;32m~/anaconda/lib/python3.5/site-packages/numpy/lib/npyio.py\u001b[0m in \u001b[0;36mload\u001b[0;34m(file, mmap_mode, allow_pickle, fix_imports, encoding)\u001b[0m\n\u001b[1;32m    382\u001b[0m     \u001b[0mown_fid\u001b[0m \u001b[0;34m=\u001b[0m \u001b[0;32mFalse\u001b[0m\u001b[0;34m\u001b[0m\u001b[0m\n\u001b[1;32m    383\u001b[0m     \u001b[0;32mif\u001b[0m \u001b[0misinstance\u001b[0m\u001b[0;34m(\u001b[0m\u001b[0mfile\u001b[0m\u001b[0;34m,\u001b[0m \u001b[0mbasestring\u001b[0m\u001b[0;34m)\u001b[0m\u001b[0;34m:\u001b[0m\u001b[0;34m\u001b[0m\u001b[0m\n\u001b[0;32m--> 384\u001b[0;31m         \u001b[0mfid\u001b[0m \u001b[0;34m=\u001b[0m \u001b[0mopen\u001b[0m\u001b[0;34m(\u001b[0m\u001b[0mfile\u001b[0m\u001b[0;34m,\u001b[0m \u001b[0;34m\"rb\"\u001b[0m\u001b[0;34m)\u001b[0m\u001b[0;34m\u001b[0m\u001b[0m\n\u001b[0m\u001b[1;32m    385\u001b[0m         \u001b[0mown_fid\u001b[0m \u001b[0;34m=\u001b[0m \u001b[0;32mTrue\u001b[0m\u001b[0;34m\u001b[0m\u001b[0m\n\u001b[1;32m    386\u001b[0m     \u001b[0;32melif\u001b[0m \u001b[0mis_pathlib_path\u001b[0m\u001b[0;34m(\u001b[0m\u001b[0mfile\u001b[0m\u001b[0;34m)\u001b[0m\u001b[0;34m:\u001b[0m\u001b[0;34m\u001b[0m\u001b[0m\n",
      "\u001b[0;31mFileNotFoundError\u001b[0m: [Errno 2] No such file or directory: '/scratch/xz2139/Target_R2Unet.npy'"
     ]
    }
   ],
   "source": [
    "##new\n",
    "\n",
    "def all_power_spectrum():\n",
    "    target=np.load('/scratch/xz2139/Target_R2Unet.npy')\n",
    "    models_list = ['full_4_1_0']\n",
    "    ps = {}\n",
    "    for model_name in models_list:\n",
    "        prediction=np.load('/scratch/yw1007/dark_matter/predictions_' + model_name + '.npy')\n",
    "        \n",
    "\n",
    "all_power_spectrum()"
   ]
  },
  {
   "cell_type": "code",
   "execution_count": null,
   "metadata": {
    "collapsed": true
   },
   "outputs": [],
   "source": [
    "target=np.load('/scratch/xz2139/Target_R2Unet.npy')"
   ]
  },
  {
   "cell_type": "code",
   "execution_count": null,
   "metadata": {
    "collapsed": true
   },
   "outputs": [],
   "source": [
    "prediction2=np.load('/scratch/yw1007/dark_matter/predictions_full_4_1_0.npy')"
   ]
  },
  {
   "cell_type": "code",
   "execution_count": null,
   "metadata": {
    "collapsed": true
   },
   "outputs": [],
   "source": []
  },
  {
   "cell_type": "code",
   "execution_count": null,
   "metadata": {
    "collapsed": true
   },
   "outputs": [],
   "source": [
    "prediction5=np.load('/scratch/yw1007/dark_matter/predictions_full_4_5_0.npy')\n",
    "prediction3=np.load('/scratch/yw1007/dark_matter/predictions_full_4_3_0.npy')"
   ]
  },
  {
   "cell_type": "code",
   "execution_count": null,
   "metadata": {
    "collapsed": true
   },
   "outputs": [],
   "source": [
    "predictionr2_0=np.load('/scratch/ys3202/predictions_model_full_5_1.pth.npy')\n",
    "predictionr2_3=np.load('/scratch/ys3202/predictions_model_full_5_3.pth.npy')\n",
    "predictionr2_5=np.load('/scratch/ys3202/predictions_model_full_5_5.pth.npy')"
   ]
  },
  {
   "cell_type": "code",
   "execution_count": null,
   "metadata": {
    "collapsed": true
   },
   "outputs": [],
   "source": [
    "p_k2,p_pk02=power_spectrum_np(prediction2,prediction2.mean(), 106.5)\n",
    "\n",
    "p_k3,p_pk03=power_spectrum_np(prediction3,prediction3.mean(), 106.5)\n",
    "\n",
    "p_k5,p_pk05=power_spectrum_np(prediction5,prediction5.mean(), 106.5)\n",
    "\n",
    "p_k1r,p_pk01r=power_spectrum_np(predictionr2_0,predictionr2_0.mean(), 106.5)\n",
    "\n",
    "p_k3r,p_pk03r=power_spectrum_np(predictionr2_3,predictionr2_3.mean(), 106.5)\n",
    "\n",
    "p_k5r,p_pk05r=power_spectrum_np(predictionr2_5,predictionr2_5.mean(), 106.5)\n",
    "t_k,t_pk0=power_spectrum_np(target,target.mean(), 106.5)"
   ]
  },
  {
   "cell_type": "code",
   "execution_count": null,
   "metadata": {
    "collapsed": true
   },
   "outputs": [],
   "source": [
    "import matplotlib.pyplot as plt\n",
    "import seaborn as sns\n",
    "sns.set()"
   ]
  },
  {
   "cell_type": "code",
   "execution_count": null,
   "metadata": {
    "collapsed": true
   },
   "outputs": [],
   "source": [
    "plt.figure(figsize=[10,5.5])\n",
    "# plt.plot(p_k,p_pk0,label='R2Unet+R2Unet prediction',color='black')\n",
    "plt.plot(t_k,t_pk0,label='Target Simulation',color='b')\n",
    "plt.plot(p_k2,p_pk02,label='Conv+R2Unet Weight1 prediction',color='y',linestyle='-.')\n",
    "plt.plot(p_k3,p_pk03,label='Conv+R2Unet Weight3 prediction',color='r',linestyle='-.')\n",
    "plt.plot(p_k5,p_pk05,label='Conv+R2Unet Weight5 prediction',color='g',linestyle='-.')\n",
    "\n",
    "plt.axhline(1.2850479100852299,linestyle='--',color='grey',label='reference line on noise')\n",
    "plt.xscale('log')\n",
    "plt.yscale('log')\n",
    "plt.xlabel('k')\n",
    "plt.ylabel('p(k)')\n",
    "plt.legend()\n",
    "plt.show()"
   ]
  },
  {
   "cell_type": "code",
   "execution_count": null,
   "metadata": {
    "collapsed": true
   },
   "outputs": [],
   "source": [
    "plt.figure(figsize=[10,5.5])\n",
    "# plt.plot(p_k,p_pk0,label='R2Unet+R2Unet prediction',color='black')\n",
    "plt.plot(t_k,t_pk0,label='Target Simulation',color='b')\n",
    "plt.plot(p_k1r,p_pk01r,label='R2Unet+R2Unet Weight1 prediction',color='y',linestyle='-.')\n",
    "plt.plot(p_k3r,p_pk03r,label='R2Unet+R2Unet Weight3 prediction',color='r',linestyle='-.')\n",
    "plt.plot(p_k5r,p_pk05r,label='R2Unet+R2Unet Weight5 prediction',color='g',linestyle='-.')\n",
    "plt.plot(p_k3,p_pk03,label='Conv+R2Unet Weight3 prediction',color='c',linestyle='-.')\n",
    "plt.axhline(1.2850479100852299,linestyle='--',color='grey',label='reference line on noise')\n",
    "plt.xscale('log')\n",
    "plt.yscale('log')\n",
    "plt.xlabel('k')\n",
    "plt.ylabel('p(k)')\n",
    "plt.legend()\n",
    "plt.show()"
   ]
  }
 ],
 "metadata": {
  "kernelspec": {
   "display_name": "Python [default]",
   "language": "python",
   "name": "python3"
  },
  "language_info": {
   "codemirror_mode": {
    "name": "ipython",
    "version": 3
   },
   "file_extension": ".py",
   "mimetype": "text/x-python",
   "name": "python",
   "nbconvert_exporter": "python",
   "pygments_lexer": "ipython3",
   "version": "3.5.3"
  }
 },
 "nbformat": 4,
 "nbformat_minor": 2
}
